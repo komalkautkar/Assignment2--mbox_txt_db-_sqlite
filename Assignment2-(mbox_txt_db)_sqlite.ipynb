{
 "cells": [
  {
   "cell_type": "code",
   "execution_count": 1,
   "id": "47425c5f",
   "metadata": {},
   "outputs": [],
   "source": [
    "import sqlite3"
   ]
  },
  {
   "cell_type": "code",
   "execution_count": 2,
   "id": "62d47984",
   "metadata": {},
   "outputs": [],
   "source": [
    "# Connect to the SQLite database (or create it if it doesn't exist)\n",
    "conn = sqlite3.connect('mbox_txt_db.sqlite')\n",
    "cur = conn.cursor()"
   ]
  },
  {
   "cell_type": "code",
   "execution_count": 4,
   "id": "3fd0ad94",
   "metadata": {},
   "outputs": [],
   "source": [
    "# Drop the Counts table if it exists\n",
    "cur.execute('DROP TABLE IF EXISTS Counts')\n",
    "\n",
    "# Create the Counts table\n",
    "cur.execute('CREATE TABLE Counts (org TEXT, count INTEGER)')\n",
    "\n",
    "# Insert domain counts into the database\n",
    "for domain, count in domain_counts.items():\n",
    "    cur.execute('INSERT INTO Counts (org, count) VALUES (?, ?)', (domain, count))\n"
   ]
  },
  {
   "cell_type": "code",
   "execution_count": 7,
   "id": "7f74536e",
   "metadata": {},
   "outputs": [
    {
     "name": "stdout",
     "output_type": "stream",
     "text": [
      "Enter file name: mbox.txt\n"
     ]
    }
   ],
   "source": [
    "# the user to enter the file name\n",
    "file_name = input(\"Enter file name: \")\n",
    "\n",
    "# Extract domain counts from the mbox.txt file\n",
    "domain_counts = dict()\n",
    "with open(file_name, 'r') as file:\n",
    "    for line in file:\n",
    "        if line.startswith('From '):\n",
    "            domain = line.split('@')[-1].split()[0].strip()\n",
    "            domain_counts[domain] = domain_counts.get(domain, 0) + 1\n"
   ]
  },
  {
   "cell_type": "code",
   "execution_count": 5,
   "id": "c0bf1175",
   "metadata": {},
   "outputs": [
    {
     "name": "stdout",
     "output_type": "stream",
     "text": [
      "Counts:\n",
      "uct.ac.za 6\n",
      "media.berkeley.edu 4\n",
      "umich.edu 7\n",
      "iupui.edu 8\n",
      "caret.cam.ac.uk 1\n",
      "gmail.com 1\n"
     ]
    }
   ],
   "source": [
    "# Display the counts\n",
    "print(\"Counts:\")\n",
    "\n",
    "# Display the extracted counts\n",
    "for domain, count in domain_counts.items():\n",
    "    print(domain, count)"
   ]
  },
  {
   "cell_type": "code",
   "execution_count": 6,
   "id": "ae93b550",
   "metadata": {},
   "outputs": [],
   "source": [
    "# Commit changes to the database\n",
    "conn.commit()\n",
    "\n",
    "\n",
    "\n",
    "# Close the cursor and connection\n",
    "cur.close()\n",
    "conn.close()"
   ]
  },
  {
   "cell_type": "code",
   "execution_count": null,
   "id": "b54b3563",
   "metadata": {},
   "outputs": [],
   "source": []
  }
 ],
 "metadata": {
  "kernelspec": {
   "display_name": "Python 3 (ipykernel)",
   "language": "python",
   "name": "python3"
  },
  "language_info": {
   "codemirror_mode": {
    "name": "ipython",
    "version": 3
   },
   "file_extension": ".py",
   "mimetype": "text/x-python",
   "name": "python",
   "nbconvert_exporter": "python",
   "pygments_lexer": "ipython3",
   "version": "3.11.5"
  }
 },
 "nbformat": 4,
 "nbformat_minor": 5
}
